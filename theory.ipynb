{
 "cells": [
  {
   "cell_type": "markdown",
   "metadata": {},
   "source": [
    "## Theory\n",
    "\n",
    "The electric field of a sphere with constant charge density may be defined by Gauss's law:\n",
    "\n",
    "$$\\phi_E=\\frac{Q}{\\epsilon_0}$$\n",
    "\n",
    "Where $\\phi_E$ is the flux of electric field through the surface of a spherical shell defined by a radius r, and $Q$ is the charge enclosed by this shell. Putting this into terms such that one may easily solve for the electric field, due to symmetry, the flux of the electric field through the shell will simply be\n",
    "\n",
    "$$\\phi_E=\\int_S E\\cdotp dA=EA$$\n",
    "\n",
    "where A is the surface area of the shell. So,\n",
    "\n",
    "$$E=\\frac{Q_{enc}}{\\epsilon_0 A}$$\n",
    "\n",
    "Now, $Q_{enc}$ is dependent on whether the point at which potential is being measured is inside or outside the sphere which contains volume charge density $\\rho$. If the point p is outside, $Q_{enc}$ is simply the charge density times the volume of the sphere. If point p is inside, then $Q_{enc}$ is the charge density times the volume enclosed by a spherical shell with its boundary defined by point p. With this, one can derive an equation for the electric field inside the shell and outside the shell.\n",
    "\n",
    "$$E_{in}=\\frac{\\frac{4}{3}\\pi \\rho r^3}{4\\pi \\epsilon_0 r^2}=\\frac{\\rho r}{3\\epsilon}$$\n",
    "\n",
    "$$E_{out}=\\frac{\\frac{4}{3}\\pi \\rho R^3}{4\\pi \\epsilon_0 r^2}=\\frac{\\rho R^3}{3\\epsilon r^2}$$\n",
    "\n",
    "R is the radius of the sphere while r is the radial distance between the center of the sphere and point p. As such, the electric field will have a linear relation with r inside the sphere and a decreasing parabolic relation with r outside the sphere.\n",
    "Now, the electric field is a vector; the above equations describe the electric field in the radial direction outward from the center of the sphere.\n",
    "\n"
   ]
  }
 ],
 "metadata": {
  "language_info": {
   "name": "python"
  }
 },
 "nbformat": 4,
 "nbformat_minor": 2
}
