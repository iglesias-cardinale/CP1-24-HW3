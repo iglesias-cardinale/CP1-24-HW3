{
 "cells": [
  {
   "cell_type": "code",
   "execution_count": 1,
   "metadata": {},
   "outputs": [],
   "source": [
    "import numpy as np\n",
    "import matplotlib.pyplot as plt"
   ]
  },
  {
   "cell_type": "code",
   "execution_count": 23,
   "metadata": {},
   "outputs": [
    {
     "name": "stdout",
     "output_type": "stream",
     "text": [
      "8.540376518866549e-05\n"
     ]
    }
   ],
   "source": [
    "#Define scalar Potential\n",
    "\n",
    "epsilon0 = 8.854187817e-12 #Farads per meter\n",
    "q = 1.60217663e-19 #Coulombs\n",
    "\n",
    "positions = np.random.rand(N, 3)\n",
    "r_xp = lambda x, p: np.linalg.norm(x - p)  #Calculates the distance between ovbservation point (x) and charge (p)\n",
    "\n",
    "def scalarpot(x,p,q):\n",
    "    '''Finds the value of the scalar potential at position x due to the charge q at point p.\n",
    "    Inputs: x = 3 list of 3 vector locations (in meters) of point at which we want to find the potential\n",
    "            p = list 3 vector position (in meters) of charges\n",
    "            q = charge (in coulombs)\n",
    "    '''\n",
    "\n",
    "    rxp = np.array([])\n",
    "    rxp.append(r_xp(x[i],p[j]) for i in x and j in p)\n",
    "    \n",
    "    V = q/(rxp*4*np.pi*epsilon0) \n",
    "\n",
    "    return V\n",
    "\n",
    "\n",
    "x = [0,0,0] #Finding potential at the origin\n",
    "\n",
    "N = 50000\n",
    "plist = np.random.rand(N, 3) #List of charge locations, randomly positioned around the origin.\n",
    "\n",
    "\n",
    "print(sum(scalarpot(x,p, q) for p in plist))"
   ]
  },
  {
   "cell_type": "code",
   "execution_count": null,
   "metadata": {},
   "outputs": [],
   "source": []
  }
 ],
 "metadata": {
  "kernelspec": {
   "display_name": "Python 3",
   "language": "python",
   "name": "python3"
  },
  "language_info": {
   "codemirror_mode": {
    "name": "ipython",
    "version": 3
   },
   "file_extension": ".py",
   "mimetype": "text/x-python",
   "name": "python",
   "nbconvert_exporter": "python",
   "pygments_lexer": "ipython3",
   "version": "3.12.1"
  }
 },
 "nbformat": 4,
 "nbformat_minor": 2
}
