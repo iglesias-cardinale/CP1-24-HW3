{
 "cells": [
  {
   "cell_type": "code",
   "execution_count": 3,
   "metadata": {},
   "outputs": [],
   "source": [
    "import numpy as np\n",
    "import matplotlib.pyplot as plt"
   ]
  },
  {
   "cell_type": "code",
   "execution_count": null,
   "metadata": {},
   "outputs": [],
   "source": [
    "import numpy as np\n",
    "\n",
    "#Constants\n",
    "N = 500  #Number of charges\n",
    "\n",
    "epsilon0 = 8.854187817e-12  #Farads per meter\n",
    "q = 1.60217663e-19  #Coulombs (elementary charge)\n",
    "\n",
    "#Randomly place N charges in 3D space\n",
    "p = np.random.rand(N, 3)  # Charge positions (Nx3 array)\n",
    "\n",
    "#Lambda function to calculate the distance between an observation point x and all charges p\n",
    "r_xp = lambda x, p: np.linalg.norm(x - p, axis=1)\n",
    "\n",
    "#Standard function to calculate the scalar electrostatic potential at multiple observation points\n",
    "def scalarpot(x, p, q):\n",
    "    \"\"\"\n",
    "    Computes the scalar electrostatic potential at multiple observation points(x) due to N charges (q) at positions (p).\n",
    "    \n",
    "    Inputs:\n",
    "    - x: List of observations points. Each point should be given as a list of length 3 signifying the position, in meters, in the x, y and z directions\n",
    "    - p: List of positions of the charges. Each item in the list should be a list of length 3 signifying the position, in meters, in the x, y and z directions\n",
    "    - q: Charge (in Coulombs) of the charges at position p. Each charge is assumed to be the same. This could be generalized to include different charges at each point.\n",
    "    \n",
    "    Returns:\n",
    "    - V: Array of potential values at each observation point\n",
    "    \"\"\"\n",
    "    V = np.zeros(len(x))  #Initialize potential array for observation points\n",
    "    \n",
    "    #Loop over all observation points\n",
    "    for i, obs_point in enumerate(x): #enumerate(x) returns the index of x as i and the value of x at that index as obs_point\n",
    "        #Compute distances from the observation point to all charges\n",
    "        distances = r_xp(obs_point, p)\n",
    "        #Avoid division by zero in case an observation point coincides with a charge\n",
    "        distances[distances == 0] = np.inf\n",
    "        #Compute potential contributions and sum them up\n",
    "        V[i] = np.sum(q / (4 * np.pi * epsilon0 * distances))\n",
    "    \n",
    "    return V\n",
    "\n",
    "#Observation points (for example, origin and another point)\n",
    "x = np.array([[0, 0, 0], [1, 10, 1]])  # Mx3 array of observation points\n",
    "\n",
    "#Calculate scalar potential at the observation points\n",
    "potentials = scalarpot(x, p, q)\n",
    "\n",
    "#Output the calculated potentials at each observation point\n",
    "print(f\"Potential at {x[0]}: {potentials[0]} V\")\n",
    "print(f\"Potential at {x[1]}: {potentials[1]} V\")\n"
   ]
  },
  {
   "cell_type": "code",
   "execution_count": null,
   "metadata": {},
   "outputs": [],
   "source": []
  }
 ],
 "metadata": {
  "kernelspec": {
   "display_name": "Python 3",
   "language": "python",
   "name": "python3"
  },
  "language_info": {
   "codemirror_mode": {
    "name": "ipython",
    "version": 3
   },
   "file_extension": ".py",
   "mimetype": "text/x-python",
   "name": "python",
   "nbconvert_exporter": "python",
   "pygments_lexer": "ipython3",
   "version": "3.12.1"
  }
 },
 "nbformat": 4,
 "nbformat_minor": 2
}
