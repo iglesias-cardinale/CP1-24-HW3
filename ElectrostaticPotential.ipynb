{
 "cells": [
  {
   "cell_type": "code",
   "execution_count": 2,
   "metadata": {},
   "outputs": [],
   "source": [
    "import numpy as np"
   ]
  },
  {
   "cell_type": "code",
   "execution_count": 3,
   "metadata": {},
   "outputs": [
    {
     "name": "stdout",
     "output_type": "stream",
     "text": [
      "Potential at [0 0 0]: 8.356231228291795e-07 V\n",
      "Potential at [ 1 10  1]: 7.551488166151274e-08 V\n"
     ]
    }
   ],
   "source": [
    "from electrostatics import scalarpot\n",
    "\n",
    "#Constants\n",
    "N = 500  #Number of charges\n",
    "q = 1.60217663e-19  #Coulombs (elementary charge)\n",
    "\n",
    "#Randomly place N charges in 3D space\n",
    "p = np.random.rand(N, 3)  #Charge positions\n",
    "\n",
    "#Observation points (for example, origin and another point)\n",
    "x = np.array([[0, 0, 0], [1, 10, 1]])  #array of observation points to be input into scalarpot function\n",
    "\n",
    "# Calculate scalar potential at the observation points\n",
    "potentials = scalarpot(x, p, q)\n",
    "\n",
    "# Output the calculated potentials at each observation point\n",
    "print(f\"Potential at {x[0]}: {potentials[0]} V\")\n",
    "print(f\"Potential at {x[1]}: {potentials[1]} V\")"
   ]
  },
  {
   "cell_type": "code",
   "execution_count": null,
   "metadata": {},
   "outputs": [],
   "source": []
  }
 ],
 "metadata": {
  "kernelspec": {
   "display_name": "Python 3",
   "language": "python",
   "name": "python3"
  },
  "language_info": {
   "codemirror_mode": {
    "name": "ipython",
    "version": 3
   },
   "file_extension": ".py",
   "mimetype": "text/x-python",
   "name": "python",
   "nbconvert_exporter": "python",
   "pygments_lexer": "ipython3",
   "version": "3.12.1"
  }
 },
 "nbformat": 4,
 "nbformat_minor": 2
}
